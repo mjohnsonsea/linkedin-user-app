{
 "cells": [
  {
   "cell_type": "markdown",
   "id": "733c4577-bc45-4dc2-a47f-d9466fba28f8",
   "metadata": {},
   "source": [
    "# Final Project\n",
    "## Mike Johnson\n",
    "### December 13, 2024"
   ]
  },
  {
   "cell_type": "markdown",
   "id": "85386573-185a-4d6d-86b9-0e5c17ce96cb",
   "metadata": {},
   "source": [
    "****"
   ]
  },
  {
   "cell_type": "code",
   "execution_count": 1,
   "id": "e3ca7865-7e00-47a1-ab47-9f8ee1fb8807",
   "metadata": {},
   "outputs": [],
   "source": [
    "# Load libraries\n",
    "import pandas as pd\n",
    "import numpy as np\n",
    "import seaborn as sns\n",
    "import matplotlib.pyplot as plt"
   ]
  },
  {
   "cell_type": "markdown",
   "id": "c2913eb0-40c8-4f50-9694-92a05fd0ebb4",
   "metadata": {},
   "source": [
    "#### 1. Read in the data, call the dataframe \"s\"  and check the dimensions of the dataframe"
   ]
  },
  {
   "cell_type": "code",
   "execution_count": 2,
   "id": "22b0a2be-94b2-4966-a616-26633093366d",
   "metadata": {},
   "outputs": [],
   "source": [
    "# Read csv\n",
    "s = pd.read_csv('social_media_usage.csv')"
   ]
  },
  {
   "cell_type": "code",
   "execution_count": 3,
   "id": "bd7cbd0c-d4b2-4fea-bea3-8d0eae79e33a",
   "metadata": {},
   "outputs": [
    {
     "data": {
      "text/plain": [
       "(1502, 89)"
      ]
     },
     "execution_count": 3,
     "metadata": {},
     "output_type": "execute_result"
    }
   ],
   "source": [
    "# Check the dimensions of the dataframe\n",
    "s.shape"
   ]
  },
  {
   "cell_type": "code",
   "execution_count": 4,
   "id": "3392ec16-001d-4d15-a2d8-c03441f0bda5",
   "metadata": {},
   "outputs": [
    {
     "data": {
      "text/html": [
       "<div>\n",
       "<style scoped>\n",
       "    .dataframe tbody tr th:only-of-type {\n",
       "        vertical-align: middle;\n",
       "    }\n",
       "\n",
       "    .dataframe tbody tr th {\n",
       "        vertical-align: top;\n",
       "    }\n",
       "\n",
       "    .dataframe thead th {\n",
       "        text-align: right;\n",
       "    }\n",
       "</style>\n",
       "<table border=\"1\" class=\"dataframe\">\n",
       "  <thead>\n",
       "    <tr style=\"text-align: right;\">\n",
       "      <th></th>\n",
       "      <th>respid</th>\n",
       "      <th>sample</th>\n",
       "      <th>comp</th>\n",
       "      <th>int_date</th>\n",
       "      <th>lang</th>\n",
       "      <th>state</th>\n",
       "      <th>density</th>\n",
       "      <th>usr</th>\n",
       "      <th>qs1</th>\n",
       "      <th>sex</th>\n",
       "      <th>...</th>\n",
       "      <th>income</th>\n",
       "      <th>party</th>\n",
       "      <th>partyln</th>\n",
       "      <th>hh1</th>\n",
       "      <th>hh3</th>\n",
       "      <th>ql1</th>\n",
       "      <th>ql1a</th>\n",
       "      <th>qc1</th>\n",
       "      <th>weight</th>\n",
       "      <th>cellweight</th>\n",
       "    </tr>\n",
       "  </thead>\n",
       "  <tbody>\n",
       "    <tr>\n",
       "      <th>0</th>\n",
       "      <td>798</td>\n",
       "      <td>1</td>\n",
       "      <td>1</td>\n",
       "      <td>1/26/2021</td>\n",
       "      <td>1</td>\n",
       "      <td>51</td>\n",
       "      <td>5</td>\n",
       "      <td>S</td>\n",
       "      <td></td>\n",
       "      <td>2</td>\n",
       "      <td>...</td>\n",
       "      <td>6</td>\n",
       "      <td>2</td>\n",
       "      <td></td>\n",
       "      <td>1</td>\n",
       "      <td></td>\n",
       "      <td>1</td>\n",
       "      <td></td>\n",
       "      <td></td>\n",
       "      <td>0.557187</td>\n",
       "      <td></td>\n",
       "    </tr>\n",
       "    <tr>\n",
       "      <th>1</th>\n",
       "      <td>1017</td>\n",
       "      <td>1</td>\n",
       "      <td>1</td>\n",
       "      <td>1/25/2021</td>\n",
       "      <td>1</td>\n",
       "      <td>39</td>\n",
       "      <td>2</td>\n",
       "      <td>S</td>\n",
       "      <td></td>\n",
       "      <td>1</td>\n",
       "      <td>...</td>\n",
       "      <td>5</td>\n",
       "      <td>1</td>\n",
       "      <td></td>\n",
       "      <td>2</td>\n",
       "      <td>2</td>\n",
       "      <td>1</td>\n",
       "      <td></td>\n",
       "      <td></td>\n",
       "      <td>0.987209</td>\n",
       "      <td></td>\n",
       "    </tr>\n",
       "    <tr>\n",
       "      <th>2</th>\n",
       "      <td>1181</td>\n",
       "      <td>1</td>\n",
       "      <td>1</td>\n",
       "      <td>1/25/2021</td>\n",
       "      <td>1</td>\n",
       "      <td>32</td>\n",
       "      <td>2</td>\n",
       "      <td>U</td>\n",
       "      <td></td>\n",
       "      <td>2</td>\n",
       "      <td>...</td>\n",
       "      <td>8</td>\n",
       "      <td>3</td>\n",
       "      <td>2</td>\n",
       "      <td>2</td>\n",
       "      <td>2</td>\n",
       "      <td>1</td>\n",
       "      <td></td>\n",
       "      <td></td>\n",
       "      <td>0.925147</td>\n",
       "      <td></td>\n",
       "    </tr>\n",
       "    <tr>\n",
       "      <th>3</th>\n",
       "      <td>1388</td>\n",
       "      <td>1</td>\n",
       "      <td>1</td>\n",
       "      <td>1/25/2021</td>\n",
       "      <td>1</td>\n",
       "      <td>4</td>\n",
       "      <td>3</td>\n",
       "      <td>U</td>\n",
       "      <td></td>\n",
       "      <td>1</td>\n",
       "      <td>...</td>\n",
       "      <td>8</td>\n",
       "      <td>2</td>\n",
       "      <td></td>\n",
       "      <td>1</td>\n",
       "      <td></td>\n",
       "      <td>1</td>\n",
       "      <td></td>\n",
       "      <td></td>\n",
       "      <td>0.311080</td>\n",
       "      <td></td>\n",
       "    </tr>\n",
       "    <tr>\n",
       "      <th>4</th>\n",
       "      <td>1664</td>\n",
       "      <td>1</td>\n",
       "      <td>1</td>\n",
       "      <td>1/26/2021</td>\n",
       "      <td>1</td>\n",
       "      <td>12</td>\n",
       "      <td>2</td>\n",
       "      <td>S</td>\n",
       "      <td></td>\n",
       "      <td>2</td>\n",
       "      <td>...</td>\n",
       "      <td>7</td>\n",
       "      <td>2</td>\n",
       "      <td></td>\n",
       "      <td>2</td>\n",
       "      <td>2</td>\n",
       "      <td>1</td>\n",
       "      <td></td>\n",
       "      <td></td>\n",
       "      <td>0.396548</td>\n",
       "      <td></td>\n",
       "    </tr>\n",
       "  </tbody>\n",
       "</table>\n",
       "<p>5 rows × 89 columns</p>\n",
       "</div>"
      ],
      "text/plain": [
       "   respid  sample  comp   int_date  lang  state  density usr qs1  sex  ...  \\\n",
       "0     798       1     1  1/26/2021     1     51        5   S        2  ...   \n",
       "1    1017       1     1  1/25/2021     1     39        2   S        1  ...   \n",
       "2    1181       1     1  1/25/2021     1     32        2   U        2  ...   \n",
       "3    1388       1     1  1/25/2021     1      4        3   U        1  ...   \n",
       "4    1664       1     1  1/26/2021     1     12        2   S        2  ...   \n",
       "\n",
       "   income  party partyln  hh1  hh3 ql1 ql1a qc1    weight cellweight  \n",
       "0       6      2            1        1           0.557187             \n",
       "1       5      1            2    2   1           0.987209             \n",
       "2       8      3       2    2    2   1           0.925147             \n",
       "3       8      2            1        1           0.311080             \n",
       "4       7      2            2    2   1           0.396548             \n",
       "\n",
       "[5 rows x 89 columns]"
      ]
     },
     "execution_count": 4,
     "metadata": {},
     "output_type": "execute_result"
    }
   ],
   "source": [
    "# Verify dataframe loaded correctly\n",
    "s.head()"
   ]
  },
  {
   "cell_type": "markdown",
   "id": "63a26605-a16b-4557-8678-c747e65992aa",
   "metadata": {},
   "source": [
    "****"
   ]
  },
  {
   "cell_type": "markdown",
   "id": "e3ca9ac3-6f0c-44c3-a64e-7ea91917bf2f",
   "metadata": {},
   "source": [
    "#### 2. Define a function called clean_sm that takes one input, x, and uses `np.where` to check whether x is equal to 1. If it is, make the value of x = 1, otherwise make it 0. Return x. Create a toy dataframe with three rows and two columns and test your function to make sure it works as expected."
   ]
  },
  {
   "cell_type": "code",
   "execution_count": 5,
   "id": "31ea3fb3-75af-43e9-a5a4-42f198289010",
   "metadata": {},
   "outputs": [],
   "source": [
    "# Create clean_sm function\n",
    "def clean_sm(x):\n",
    "    return np.where(x == 1, 1, 0)"
   ]
  },
  {
   "cell_type": "code",
   "execution_count": 6,
   "id": "0bcc0667-b658-4bf7-9275-79d8bb8efd70",
   "metadata": {},
   "outputs": [
    {
     "data": {
      "text/html": [
       "<div>\n",
       "<style scoped>\n",
       "    .dataframe tbody tr th:only-of-type {\n",
       "        vertical-align: middle;\n",
       "    }\n",
       "\n",
       "    .dataframe tbody tr th {\n",
       "        vertical-align: top;\n",
       "    }\n",
       "\n",
       "    .dataframe thead th {\n",
       "        text-align: right;\n",
       "    }\n",
       "</style>\n",
       "<table border=\"1\" class=\"dataframe\">\n",
       "  <thead>\n",
       "    <tr style=\"text-align: right;\">\n",
       "      <th></th>\n",
       "      <th>Column1</th>\n",
       "      <th>Column2</th>\n",
       "    </tr>\n",
       "  </thead>\n",
       "  <tbody>\n",
       "    <tr>\n",
       "      <th>0</th>\n",
       "      <td>1</td>\n",
       "      <td>1</td>\n",
       "    </tr>\n",
       "    <tr>\n",
       "      <th>1</th>\n",
       "      <td>2</td>\n",
       "      <td>1</td>\n",
       "    </tr>\n",
       "    <tr>\n",
       "      <th>2</th>\n",
       "      <td>3</td>\n",
       "      <td>0</td>\n",
       "    </tr>\n",
       "  </tbody>\n",
       "</table>\n",
       "</div>"
      ],
      "text/plain": [
       "   Column1  Column2\n",
       "0        1        1\n",
       "1        2        1\n",
       "2        3        0"
      ]
     },
     "execution_count": 6,
     "metadata": {},
     "output_type": "execute_result"
    }
   ],
   "source": [
    "# Create toy dataframe to test function\n",
    "toy_df = pd.DataFrame({'Column1' : [1, 2, 3],\n",
    "                      'Column2' : [1, 1, 0]})\n",
    "\n",
    "toy_df"
   ]
  },
  {
   "cell_type": "code",
   "execution_count": 7,
   "id": "05405ba5-81e2-4c9b-9663-114ec110f4e1",
   "metadata": {},
   "outputs": [
    {
     "data": {
      "text/html": [
       "<div>\n",
       "<style scoped>\n",
       "    .dataframe tbody tr th:only-of-type {\n",
       "        vertical-align: middle;\n",
       "    }\n",
       "\n",
       "    .dataframe tbody tr th {\n",
       "        vertical-align: top;\n",
       "    }\n",
       "\n",
       "    .dataframe thead th {\n",
       "        text-align: right;\n",
       "    }\n",
       "</style>\n",
       "<table border=\"1\" class=\"dataframe\">\n",
       "  <thead>\n",
       "    <tr style=\"text-align: right;\">\n",
       "      <th></th>\n",
       "      <th>Column1</th>\n",
       "      <th>Column2</th>\n",
       "    </tr>\n",
       "  </thead>\n",
       "  <tbody>\n",
       "    <tr>\n",
       "      <th>0</th>\n",
       "      <td>1</td>\n",
       "      <td>1</td>\n",
       "    </tr>\n",
       "    <tr>\n",
       "      <th>1</th>\n",
       "      <td>0</td>\n",
       "      <td>1</td>\n",
       "    </tr>\n",
       "    <tr>\n",
       "      <th>2</th>\n",
       "      <td>0</td>\n",
       "      <td>0</td>\n",
       "    </tr>\n",
       "  </tbody>\n",
       "</table>\n",
       "</div>"
      ],
      "text/plain": [
       "   Column1  Column2\n",
       "0        1        1\n",
       "1        0        1\n",
       "2        0        0"
      ]
     },
     "execution_count": 7,
     "metadata": {},
     "output_type": "execute_result"
    }
   ],
   "source": [
    "# Apply function to toy dataframe\n",
    "toy_df = toy_df.apply(clean_sm)\n",
    "\n",
    "toy_df"
   ]
  },
  {
   "cell_type": "markdown",
   "id": "91f521fe-d3ba-4f84-a3da-c7f211e943c6",
   "metadata": {},
   "source": [
    "****"
   ]
  },
  {
   "cell_type": "markdown",
   "id": "8402b119-5362-47f6-aa86-34feb385070d",
   "metadata": {},
   "source": [
    "#### 3. Create a new dataframe called \"ss\". The new dataframe should contain a target column called sm_li which should be a binary variable ( that takes the value of 1 if it is 1 and 0 otherwise (use clean_sm to create this) which indicates whether or not the individual uses LinkedIn, and the following features: income (ordered numeric from 1 to 9, above 9 considered missing), education (ordered numeric from 1 to 8, above 8 considered missing), parent (binary), married (binary), female (binary), and age (numeric, above 98 considered missing). Drop any missing values. Perform exploratory analysis to examine how the features are related to the target."
   ]
  },
  {
   "cell_type": "markdown",
   "id": "a35c2565-67e1-43b2-87d2-63c625a68f24",
   "metadata": {},
   "source": [
    "##### Create \"ss\" and apply transformations."
   ]
  },
  {
   "cell_type": "code",
   "execution_count": 8,
   "id": "d4c0f6b3-381d-421a-93b4-2e9942d7be31",
   "metadata": {},
   "outputs": [],
   "source": [
    "# Create new dataframe\n",
    "ss = s"
   ]
  },
  {
   "cell_type": "code",
   "execution_count": 9,
   "id": "8440bdc9-0f3a-450e-a096-53020d038f8c",
   "metadata": {},
   "outputs": [],
   "source": [
    "# Create target column that indicates whether the individual uses LinkedIn\n",
    "ss['sm_li'] = clean_sm(ss['web1h'])"
   ]
  },
  {
   "cell_type": "code",
   "execution_count": 10,
   "id": "24f94f7a-4061-4c5d-8835-af8e2022d3e1",
   "metadata": {},
   "outputs": [],
   "source": [
    "# Transformations\n",
    "ss['income'] = np.where(ss['income'] > 9, np.nan, ss['income']) # Above 9 is considered missing.\n",
    "ss['education'] = np.where(ss['educ2'] > 8, np.nan, ss['educ2']) # Above 8 is considered missing.\n",
    "ss['parent'] = np.where(ss['par'] == 1, True, False) # Binary\n",
    "ss['married'] = np.where(ss['marital'] == 1, True, False) # Binary\n",
    "ss['female'] = np.where(ss['gender'] == 2, True, False) # Binary\n",
    "ss['age'] = np.where(ss['age'] > 98, np.nan, ss['age']) # Above 98 is considered missing."
   ]
  },
  {
   "cell_type": "code",
   "execution_count": 11,
   "id": "b0a007a0-0f39-475c-8251-2d39423d075a",
   "metadata": {},
   "outputs": [
    {
     "data": {
      "text/html": [
       "<div>\n",
       "<style scoped>\n",
       "    .dataframe tbody tr th:only-of-type {\n",
       "        vertical-align: middle;\n",
       "    }\n",
       "\n",
       "    .dataframe tbody tr th {\n",
       "        vertical-align: top;\n",
       "    }\n",
       "\n",
       "    .dataframe thead th {\n",
       "        text-align: right;\n",
       "    }\n",
       "</style>\n",
       "<table border=\"1\" class=\"dataframe\">\n",
       "  <thead>\n",
       "    <tr style=\"text-align: right;\">\n",
       "      <th></th>\n",
       "      <th>sm_li</th>\n",
       "      <th>income</th>\n",
       "      <th>education</th>\n",
       "      <th>parent</th>\n",
       "      <th>married</th>\n",
       "      <th>female</th>\n",
       "      <th>age</th>\n",
       "    </tr>\n",
       "  </thead>\n",
       "  <tbody>\n",
       "    <tr>\n",
       "      <th>0</th>\n",
       "      <td>0</td>\n",
       "      <td>6.0</td>\n",
       "      <td>4.0</td>\n",
       "      <td>False</td>\n",
       "      <td>False</td>\n",
       "      <td>True</td>\n",
       "      <td>77.0</td>\n",
       "    </tr>\n",
       "    <tr>\n",
       "      <th>1</th>\n",
       "      <td>0</td>\n",
       "      <td>5.0</td>\n",
       "      <td>3.0</td>\n",
       "      <td>False</td>\n",
       "      <td>False</td>\n",
       "      <td>False</td>\n",
       "      <td>59.0</td>\n",
       "    </tr>\n",
       "    <tr>\n",
       "      <th>2</th>\n",
       "      <td>0</td>\n",
       "      <td>8.0</td>\n",
       "      <td>4.0</td>\n",
       "      <td>False</td>\n",
       "      <td>True</td>\n",
       "      <td>True</td>\n",
       "      <td>60.0</td>\n",
       "    </tr>\n",
       "    <tr>\n",
       "      <th>3</th>\n",
       "      <td>0</td>\n",
       "      <td>8.0</td>\n",
       "      <td>8.0</td>\n",
       "      <td>False</td>\n",
       "      <td>False</td>\n",
       "      <td>False</td>\n",
       "      <td>73.0</td>\n",
       "    </tr>\n",
       "    <tr>\n",
       "      <th>4</th>\n",
       "      <td>1</td>\n",
       "      <td>7.0</td>\n",
       "      <td>8.0</td>\n",
       "      <td>False</td>\n",
       "      <td>True</td>\n",
       "      <td>True</td>\n",
       "      <td>65.0</td>\n",
       "    </tr>\n",
       "  </tbody>\n",
       "</table>\n",
       "</div>"
      ],
      "text/plain": [
       "   sm_li  income  education  parent  married  female   age\n",
       "0      0     6.0        4.0   False    False    True  77.0\n",
       "1      0     5.0        3.0   False    False   False  59.0\n",
       "2      0     8.0        4.0   False     True    True  60.0\n",
       "3      0     8.0        8.0   False    False   False  73.0\n",
       "4      1     7.0        8.0   False     True    True  65.0"
      ]
     },
     "execution_count": 11,
     "metadata": {},
     "output_type": "execute_result"
    }
   ],
   "source": [
    "# Select columns to include\n",
    "ss = ss[['sm_li',\n",
    "         'income',\n",
    "         'education',\n",
    "         'parent',\n",
    "         'married',\n",
    "         'female',\n",
    "         'age']]\n",
    "\n",
    "ss.head()"
   ]
  },
  {
   "cell_type": "code",
   "execution_count": 12,
   "id": "e9a4cc93-5731-4f17-a862-caf80e95c8c5",
   "metadata": {},
   "outputs": [
    {
     "data": {
      "text/plain": [
       "sm_li          0\n",
       "income       229\n",
       "education     23\n",
       "parent         0\n",
       "married        0\n",
       "female         0\n",
       "age           54\n",
       "dtype: int64"
      ]
     },
     "execution_count": 12,
     "metadata": {},
     "output_type": "execute_result"
    }
   ],
   "source": [
    "# Check for NA values\n",
    "ss.isna().sum()"
   ]
  },
  {
   "cell_type": "code",
   "execution_count": 13,
   "id": "025853c7-aaaa-493a-a0ec-fd454de06aa9",
   "metadata": {},
   "outputs": [],
   "source": [
    "# Remove NA's\n",
    "ss = ss.dropna()"
   ]
  },
  {
   "cell_type": "code",
   "execution_count": 14,
   "id": "4058d465-3f85-4c2d-a031-0ca3a2631f69",
   "metadata": {},
   "outputs": [
    {
     "data": {
      "text/plain": [
       "sm_li        0\n",
       "income       0\n",
       "education    0\n",
       "parent       0\n",
       "married      0\n",
       "female       0\n",
       "age          0\n",
       "dtype: int64"
      ]
     },
     "execution_count": 14,
     "metadata": {},
     "output_type": "execute_result"
    }
   ],
   "source": [
    "# Verify that NA's were removed\n",
    "ss.isna().sum()"
   ]
  },
  {
   "cell_type": "markdown",
   "id": "bbd776d4-dc92-4da1-ad88-0a5101d9150f",
   "metadata": {},
   "source": [
    "##### Exploratory analysis"
   ]
  },
  {
   "cell_type": "markdown",
   "id": "8cd89438-0de3-4f27-a618-36ece53a1998",
   "metadata": {},
   "source": [
    "Income"
   ]
  },
  {
   "cell_type": "code",
   "execution_count": 15,
   "id": "b6482914-ce2d-4f3e-a2ba-0ae88e19c1bc",
   "metadata": {},
   "outputs": [],
   "source": [
    "# Subset that calculates %'s of total for each income bracket\n",
    "prob_income = pd.crosstab(ss['income'],\n",
    "                           ss['sm_li'],\n",
    "                           normalize = 'index').reset_index()\n",
    "\n",
    "\n",
    "prob_income = prob_income.drop(columns = 0) # Isolate LinkedIn users\n",
    "prob_income[1] = (prob_income[1].round(2) * 100) # Convert to percent\n"
   ]
  },
  {
   "cell_type": "code",
   "execution_count": 16,
   "id": "6ed7b7d7-c96e-4f55-9f3d-a1231d823d29",
   "metadata": {},
   "outputs": [
    {
     "data": {
      "image/png": "[encoded data removed]",
      "text/plain": [
       "<Figure size 640x480 with 1 Axes>"
      ]
     },
     "metadata": {},
     "output_type": "display_data"
    }
   ],
   "source": [
    "# Visualize prob_income\n",
    "viz_income = sns.barplot(x = 'income',\n",
    "                         y = 1,\n",
    "                         data = prob_income)\n",
    "\n",
    "# Add labels and title\n",
    "viz_income.set(xlabel = 'Income',\n",
    "               ylabel = '% that have LinkedIn',\n",
    "               title = 'Percent That Have LinkedIn By Income Bracket')\n",
    "\n",
    "plt.show()"
   ]
  },
  {
   "cell_type": "markdown",
   "id": "0747eec6-3c70-455d-875c-61b52c292357",
   "metadata": {},
   "source": [
    "As income increases, the likelihood that an individual has linked in increases. At level 7 (75K - 100K) the likelihood increases significantly."
   ]
  },
  {
   "cell_type": "markdown",
   "id": "43b0dbea-f206-4c2d-9a3c-2d4f4f3ab708",
   "metadata": {},
   "source": [
    "Education"
   ]
  },
  {
   "cell_type": "code",
   "execution_count": 17,
   "id": "30d29f25-09b6-4257-b493-610e5b5f9c61",
   "metadata": {},
   "outputs": [],
   "source": [
    "# Subset that calculates %'s of total for each education bracket\n",
    "prob_ed = pd.crosstab(ss['education'],\n",
    "                           ss['sm_li'],\n",
    "                           normalize = 'index').reset_index()\n",
    "\n",
    "\n",
    "prob_ed = prob_ed.drop(columns = 0) # Isolate LinkedIn users\n",
    "prob_ed[1] = (prob_ed[1].round(2) * 100) # Convert to percent"
   ]
  },
  {
   "cell_type": "code",
   "execution_count": 18,
   "id": "e2d8a282-a001-40df-81a7-c29d3a5c7a46",
   "metadata": {},
   "outputs": [
    {
     "data": {
      "image/png": "[encoded data removed]",
      "text/plain": [
       "<Figure size 640x480 with 1 Axes>"
      ]
     },
     "metadata": {},
     "output_type": "display_data"
    }
   ],
   "source": [
    "# Visualize prob_ed\n",
    "viz_ed = sns.barplot(x = 'education',\n",
    "                         y = 1,\n",
    "                         data = prob_ed)\n",
    "\n",
    "# Add labels and title\n",
    "viz_ed.set(xlabel = 'Education Level',\n",
    "           ylabel = '% that have LinkedIn',\n",
    "           title = 'Percent That Have LinkedIn By Education Level')\n",
    "\n",
    "plt.show()"
   ]
  },
  {
   "cell_type": "markdown",
   "id": "87ff6bb8-b9dd-415d-b748-a4625b14eb7e",
   "metadata": {},
   "source": [
    "As the education level increases, the likelihood that the individual has LinkedIn increases. "
   ]
  },
  {
   "cell_type": "markdown",
   "id": "72f21bea-a033-4ab5-8848-3c6f97c67cb9",
   "metadata": {},
   "source": [
    "Parent"
   ]
  },
  {
   "cell_type": "code",
   "execution_count": 19,
   "id": "2cae3658-b773-469a-b88d-5b6e7f9342ff",
   "metadata": {},
   "outputs": [],
   "source": [
    "# Subset that calculates %'s of  if parent\n",
    "prob_parent = pd.crosstab(ss['parent'],\n",
    "                          ss['sm_li'],\n",
    "                          normalize = 'index').reset_index()\n",
    "\n",
    "prob_parent = prob_parent.drop(columns = 0) # Isolate LinkedIn users\n",
    "prob_parent[1] = (prob_parent[1].round(2) * 100) # Convert to percent\n"
   ]
  },
  {
   "cell_type": "code",
   "execution_count": 20,
   "id": "c34f7071-a35c-4275-9b42-1d64a127bfc6",
   "metadata": {},
   "outputs": [
    {
     "data": {
      "image/png": "[encoded data removed]",
      "text/plain": [
       "<Figure size 640x480 with 1 Axes>"
      ]
     },
     "metadata": {},
     "output_type": "display_data"
    }
   ],
   "source": [
    "# Visualize prob_ed\n",
    "viz_parent = sns.barplot(x = 'parent',\n",
    "                         y = 1,\n",
    "                         data = prob_parent)\n",
    "\n",
    "# Add labels and title\n",
    "viz_parent.set(xlabel = 'Is Parent',\n",
    "               ylabel = '% that have LinkedIn',\n",
    "               title = 'Percent That Have LinkedIn Whether Parent')\n",
    "\n",
    "plt.show()"
   ]
  },
  {
   "cell_type": "markdown",
   "id": "0cb1ddcf-952f-432a-97eb-676f8fa71451",
   "metadata": {},
   "source": [
    "Parents are more likely to have LinkedIn."
   ]
  },
  {
   "cell_type": "markdown",
   "id": "4d2db820-604d-402a-95dc-81c9cc5637e3",
   "metadata": {},
   "source": [
    "Married"
   ]
  },
  {
   "cell_type": "code",
   "execution_count": 21,
   "id": "53653189-3ab3-44cc-8083-48cece358370",
   "metadata": {},
   "outputs": [],
   "source": [
    "# Subset that calculates %'s of  if married\n",
    "prob_married = pd.crosstab(ss['married'],\n",
    "                           ss['sm_li'],\n",
    "                           normalize = 'index').reset_index()\n",
    "\n",
    "prob_married = prob_married.drop(columns = 0) # Isolate LinkedIn users\n",
    "prob_married[1] = (prob_married[1].round(2) * 100) # Convert to percent"
   ]
  },
  {
   "cell_type": "code",
   "execution_count": 22,
   "id": "9f01da4e-f32c-4422-84ad-37b4d88f5896",
   "metadata": {},
   "outputs": [
    {
     "data": {
      "image/png": "[encoded data removed]",
      "text/plain": [
       "<Figure size 640x480 with 1 Axes>"
      ]
     },
     "metadata": {},
     "output_type": "display_data"
    }
   ],
   "source": [
    "# Visualize prob_married\n",
    "viz_married = sns.barplot(x = 'married',\n",
    "                         y = 1,\n",
    "                         data = prob_married)\n",
    "\n",
    "# Add labels and title\n",
    "viz_married.set(xlabel = 'Is Married',\n",
    "               ylabel = '% that have LinkedIn',\n",
    "               title = 'Percent That Have LinkedIn Whether Married')\n",
    "\n",
    "plt.show()"
   ]
  },
  {
   "cell_type": "markdown",
   "id": "2bcfd057-e246-4b32-9d78-504811694fa0",
   "metadata": {},
   "source": [
    "Married individuals are more likely to have LinkedIn."
   ]
  },
  {
   "cell_type": "markdown",
   "id": "06522b37-3173-4771-880e-2a4227649c9f",
   "metadata": {},
   "source": [
    "Female"
   ]
  },
  {
   "cell_type": "code",
   "execution_count": 23,
   "id": "f1f9e91d-2121-4983-831f-19f2e789b2ee",
   "metadata": {},
   "outputs": [],
   "source": [
    "# Subset that calculates %'s of  if female\n",
    "prob_female = pd.crosstab(ss['female'],\n",
    "                          ss['sm_li'],\n",
    "                          normalize = 'index').reset_index()\n",
    "\n",
    "prob_female = prob_female.drop(columns = 0) # Isolate LinkedIn users\n",
    "prob_female[1] = (prob_female[1].round(2) * 100) # Convert to percent"
   ]
  },
  {
   "cell_type": "code",
   "execution_count": 24,
   "id": "c09db201-775d-4d9c-a746-ec2dfa763731",
   "metadata": {},
   "outputs": [
    {
     "data": {
      "image/png": "[encoded data removed]",
      "text/plain": [
       "<Figure size 640x480 with 1 Axes>"
      ]
     },
     "metadata": {},
     "output_type": "display_data"
    }
   ],
   "source": [
    "# Visualize prob_female\n",
    "viz_female = sns.barplot(x = 'female',\n",
    "                         y = 1,\n",
    "                         data = prob_female)\n",
    "\n",
    "# Add labels and title\n",
    "viz_female.set(xlabel = 'Is Female',\n",
    "               ylabel = '% that have LinkedIn',\n",
    "               title = 'Percent That Have LinkedIn Whether Female')\n",
    "\n",
    "plt.show()"
   ]
  },
  {
   "cell_type": "markdown",
   "id": "9d91dd47-20ae-4cb7-892c-4b9e511bef52",
   "metadata": {},
   "source": [
    "Men are more likely to have LinkedIn."
   ]
  },
  {
   "cell_type": "markdown",
   "id": "f1c76e53-9119-4ea5-8ad6-7ae084128f6a",
   "metadata": {},
   "source": [
    "Age"
   ]
  },
  {
   "cell_type": "code",
   "execution_count": 25,
   "id": "5fd9ac30-e0a1-4daf-8001-e616e2b73ba8",
   "metadata": {},
   "outputs": [
    {
     "data": {
      "image/png": "[encoded data removed]",
      "text/plain": [
       "<Figure size 640x480 with 1 Axes>"
      ]
     },
     "metadata": {},
     "output_type": "display_data"
    }
   ],
   "source": [
    "# Vizualize Age and LinkedIn\n",
    "viz_age = sns.boxplot(x = 'sm_li',\n",
    "                      y = 'age',\n",
    "                      data = ss)\n",
    "\n",
    "# Add labels and title\n",
    "viz_age.set(xlabel = 'Has Linked In',\n",
    "            ylabel = 'Age',\n",
    "            title = 'Age vs LinkedIn')\n",
    "\n",
    "plt.show()\n"
   ]
  },
  {
   "cell_type": "markdown",
   "id": "45989bb1-c415-468d-a841-8caafe60ee87",
   "metadata": {},
   "source": [
    "Individuals that have LinkedIn are younger on average."
   ]
  },
  {
   "cell_type": "markdown",
   "id": "df03e0f7-2241-443a-bb00-9379276ce5e9",
   "metadata": {},
   "source": [
    "****"
   ]
  },
  {
   "cell_type": "markdown",
   "id": "dc2962bb-8adc-4ce1-9494-f81711e2c841",
   "metadata": {},
   "source": [
    "#### 4. Create a target vector (y) and feature set (X)."
   ]
  },
  {
   "cell_type": "code",
   "execution_count": 26,
   "id": "de8f6a72-1287-48a8-9e61-bce3e4589680",
   "metadata": {},
   "outputs": [],
   "source": [
    "# Target Vector\n",
    "y = ss['sm_li']\n",
    "\n",
    "# Feature Set\n",
    "X = ss.drop(columns = ['sm_li'])"
   ]
  },
  {
   "cell_type": "markdown",
   "id": "dc2894f4-e53e-49d0-9cba-f954aaa0b351",
   "metadata": {},
   "source": [
    "****"
   ]
  },
  {
   "cell_type": "markdown",
   "id": "80a1aaf6-63b7-4f87-8536-a2076e6877b9",
   "metadata": {},
   "source": [
    "#### 5. Split the data into training and test sets. Hold out 20% of the data for testing. Explain what each new object contains and how it is used in machine learning"
   ]
  },
  {
   "cell_type": "code",
   "execution_count": 27,
   "id": "8392ae52-7369-43bb-b452-50cb66d263d9",
   "metadata": {},
   "outputs": [],
   "source": [
    "# Load Library\n",
    "from sklearn.model_selection import train_test_split"
   ]
  },
  {
   "cell_type": "code",
   "execution_count": 28,
   "id": "e9b86e3f-304a-4138-85ff-3d3c62e9fe35",
   "metadata": {},
   "outputs": [],
   "source": [
    "# Split the data\n",
    "X_train, X_test, y_train, y_test = train_test_split(X, \n",
    "                                                    y, \n",
    "                                                    stratify = y,\n",
    "                                                    test_size = 0.2, \n",
    "                                                    random_state = 206)"
   ]
  },
  {
   "cell_type": "markdown",
   "id": "6c92e285-8922-480e-a0fe-0b85710681a5",
   "metadata": {},
   "source": [
    "**X_train**: This represents the training set for the feature variables, and includes 80% of the feature data. It is used to train the machine learning model. The model looks for patterns and relationships in the data.\n",
    "\n",
    "**X_test**: This represents the test set for the feature variables, and inclues 20% of the feature data. It is used to evaluate the performance of the training model and asses how well the model generalizes new data.\n",
    "\n",
    "**y_train**: This represents the training set for the target variable, and contains the corresponding y for the `X_train` data. It is used to train the model. The model learns to predict this variable based on the feature data.\n",
    "\n",
    "**y_test**: This represents the test set for the the target variable, and contains the corresponding y for the `X_test` data. It is used to evaluate the accuracy of the model's predictions."
   ]
  },
  {
   "cell_type": "markdown",
   "id": "00f82f84-3b6f-4e05-bf5d-1a9ea87cd4dd",
   "metadata": {},
   "source": [
    "****"
   ]
  },
  {
   "cell_type": "markdown",
   "id": "17a02af2-687e-4eef-8f6a-8a6193f727f9",
   "metadata": {},
   "source": [
    "#### 6. Instantiate a logistic regression model and set class_weight to balanced. Fit the model with the training data."
   ]
  },
  {
   "cell_type": "code",
   "execution_count": 29,
   "id": "628f61aa-c3e0-42aa-9201-6d716d782816",
   "metadata": {},
   "outputs": [],
   "source": [
    "# Load library\n",
    "from sklearn.linear_model import LogisticRegression"
   ]
  },
  {
   "cell_type": "code",
   "execution_count": 30,
   "id": "48002e9a-5ffe-4603-aaf5-d57f978acc30",
   "metadata": {},
   "outputs": [
    {
     "data": {
      "text/html": [
       "<style>#sk-container-id-1 {\n",
       "  /* Definition of color scheme common for light and dark mode */\n",
       "  --sklearn-color-text: black;\n",
       "  --sklearn-color-line: gray;\n",
       "  /* Definition of color scheme for unfitted estimators */\n",
       "  --sklearn-color-unfitted-level-0: #fff5e6;\n",
       "  --sklearn-color-unfitted-level-1: #f6e4d2;\n",
       "  --sklearn-color-unfitted-level-2: #ffe0b3;\n",
       "  --sklearn-color-unfitted-level-3: chocolate;\n",
       "  /* Definition of color scheme for fitted estimators */\n",
       "  --sklearn-color-fitted-level-0: #f0f8ff;\n",
       "  --sklearn-color-fitted-level-1: #d4ebff;\n",
       "  --sklearn-color-fitted-level-2: #b3dbfd;\n",
       "  --sklearn-color-fitted-level-3: cornflowerblue;\n",
       "\n",
       "  /* Specific color for light theme */\n",
       "  --sklearn-color-text-on-default-background: var(--sg-text-color, var(--theme-code-foreground, var(--jp-content-font-color1, black)));\n",
       "  --sklearn-color-background: var(--sg-background-color, var(--theme-background, var(--jp-layout-color0, white)));\n",
       "  --sklearn-color-border-box: var(--sg-text-color, var(--theme-code-foreground, var(--jp-content-font-color1, black)));\n",
       "  --sklearn-color-icon: #696969;\n",
       "\n",
       "  @media (prefers-color-scheme: dark) {\n",
       "    /* Redefinition of color scheme for dark theme */\n",
       "    --sklearn-color-text-on-default-background: var(--sg-text-color, var(--theme-code-foreground, var(--jp-content-font-color1, white)));\n",
       "    --sklearn-color-background: var(--sg-background-color, var(--theme-background, var(--jp-layout-color0, #111)));\n",
       "    --sklearn-color-border-box: var(--sg-text-color, var(--theme-code-foreground, var(--jp-content-font-color1, white)));\n",
       "    --sklearn-color-icon: #878787;\n",
       "  }\n",
       "}\n",
       "\n",
       "#sk-container-id-1 {\n",
       "  color: var(--sklearn-color-text);\n",
       "}\n",
       "\n",
       "#sk-container-id-1 pre {\n",
       "  padding: 0;\n",
       "}\n",
       "\n",
       "#sk-container-id-1 input.sk-hidden--visually {\n",
       "  border: 0;\n",
       "  clip: rect(1px 1px 1px 1px);\n",
       "  clip: rect(1px, 1px, 1px, 1px);\n",
       "  height: 1px;\n",
       "  margin: -1px;\n",
       "  overflow: hidden;\n",
       "  padding: 0;\n",
       "  position: absolute;\n",
       "  width: 1px;\n",
       "}\n",
       "\n",
       "#sk-container-id-1 div.sk-dashed-wrapped {\n",
       "  border: 1px dashed var(--sklearn-color-line);\n",
       "  margin: 0 0.4em 0.5em 0.4em;\n",
       "  box-sizing: border-box;\n",
       "  padding-bottom: 0.4em;\n",
       "  background-color: var(--sklearn-color-background);\n",
       "}\n",
       "\n",
       "#sk-container-id-1 div.sk-container {\n",
       "  /* jupyter's `normalize.less` sets `[hidden] { display: none; }`\n",
       "     but bootstrap.min.css set `[hidden] { display: none !important; }`\n",
       "     so we also need the `!important` here to be able to override the\n",
       "     default hidden behavior on the sphinx rendered scikit-learn.org.\n",
       "     See: https://github.com/scikit-learn/scikit-learn/issues/21755 */\n",
       "  display: inline-block !important;\n",
       "  position: relative;\n",
       "}\n",
       "\n",
       "#sk-container-id-1 div.sk-text-repr-fallback {\n",
       "  display: none;\n",
       "}\n",
       "\n",
       "div.sk-parallel-item,\n",
       "div.sk-serial,\n",
       "div.sk-item {\n",
       "  /* draw centered vertical line to link estimators */\n",
       "  background-image: linear-gradient(var(--sklearn-color-text-on-default-background), var(--sklearn-color-text-on-default-background));\n",
       "  background-size: 2px 100%;\n",
       "  background-repeat: no-repeat;\n",
       "  background-position: center center;\n",
       "}\n",
       "\n",
       "/* Parallel-specific style estimator block */\n",
       "\n",
       "#sk-container-id-1 div.sk-parallel-item::after {\n",
       "  content: \"\";\n",
       "  width: 100%;\n",
       "  border-bottom: 2px solid var(--sklearn-color-text-on-default-background);\n",
       "  flex-grow: 1;\n",
       "}\n",
       "\n",
       "#sk-container-id-1 div.sk-parallel {\n",
       "  display: flex;\n",
       "  align-items: stretch;\n",
       "  justify-content: center;\n",
       "  background-color: var(--sklearn-color-background);\n",
       "  position: relative;\n",
       "}\n",
       "\n",
       "#sk-container-id-1 div.sk-parallel-item {\n",
       "  display: flex;\n",
       "  flex-direction: column;\n",
       "}\n",
       "\n",
       "#sk-container-id-1 div.sk-parallel-item:first-child::after {\n",
       "  align-self: flex-end;\n",
       "  width: 50%;\n",
       "}\n",
       "\n",
       "#sk-container-id-1 div.sk-parallel-item:last-child::after {\n",
       "  align-self: flex-start;\n",
       "  width: 50%;\n",
       "}\n",
       "\n",
       "#sk-container-id-1 div.sk-parallel-item:only-child::after {\n",
       "  width: 0;\n",
       "}\n",
       "\n",
       "/* Serial-specific style estimator block */\n",
       "\n",
       "#sk-container-id-1 div.sk-serial {\n",
       "  display: flex;\n",
       "  flex-direction: column;\n",
       "  align-items: center;\n",
       "  background-color: var(--sklearn-color-background);\n",
       "  padding-right: 1em;\n",
       "  padding-left: 1em;\n",
       "}\n",
       "\n",
       "\n",
       "/* Toggleable style: style used for estimator/Pipeline/ColumnTransformer box that is\n",
       "clickable and can be expanded/collapsed.\n",
       "- Pipeline and ColumnTransformer use this feature and define the default style\n",
       "- Estimators will overwrite some part of the style using the `sk-estimator` class\n",
       "*/\n",
       "\n",
       "/* Pipeline and ColumnTransformer style (default) */\n",
       "\n",
       "#sk-container-id-1 div.sk-toggleable {\n",
       "  /* Default theme specific background. It is overwritten whether we have a\n",
       "  specific estimator or a Pipeline/ColumnTransformer */\n",
       "  background-color: var(--sklearn-color-background);\n",
       "}\n",
       "\n",
       "/* Toggleable label */\n",
       "#sk-container-id-1 label.sk-toggleable__label {\n",
       "  cursor: pointer;\n",
       "  display: block;\n",
       "  width: 100%;\n",
       "  margin-bottom: 0;\n",
       "  padding: 0.5em;\n",
       "  box-sizing: border-box;\n",
       "  text-align: center;\n",
       "}\n",
       "\n",
       "#sk-container-id-1 label.sk-toggleable__label-arrow:before {\n",
       "  /* Arrow on the left of the label */\n",
       "  content: \"▸\";\n",
       "  float: left;\n",
       "  margin-right: 0.25em;\n",
       "  color: var(--sklearn-color-icon);\n",
       "}\n",
       "\n",
       "#sk-container-id-1 label.sk-toggleable__label-arrow:hover:before {\n",
       "  color: var(--sklearn-color-text);\n",
       "}\n",
       "\n",
       "/* Toggleable content - dropdown */\n",
       "\n",
       "#sk-container-id-1 div.sk-toggleable__content {\n",
       "  max-height: 0;\n",
       "  max-width: 0;\n",
       "  overflow: hidden;\n",
       "  text-align: left;\n",
       "  /* unfitted */\n",
       "  background-color: var(--sklearn-color-unfitted-level-0);\n",
       "}\n",
       "\n",
       "#sk-container-id-1 div.sk-toggleable__content.fitted {\n",
       "  /* fitted */\n",
       "  background-color: var(--sklearn-color-fitted-level-0);\n",
       "}\n",
       "\n",
       "#sk-container-id-1 div.sk-toggleable__content pre {\n",
       "  margin: 0.2em;\n",
       "  border-radius: 0.25em;\n",
       "  color: var(--sklearn-color-text);\n",
       "  /* unfitted */\n",
       "  background-color: var(--sklearn-color-unfitted-level-0);\n",
       "}\n",
       "\n",
       "#sk-container-id-1 div.sk-toggleable__content.fitted pre {\n",
       "  /* unfitted */\n",
       "  background-color: var(--sklearn-color-fitted-level-0);\n",
       "}\n",
       "\n",
       "#sk-container-id-1 input.sk-toggleable__control:checked~div.sk-toggleable__content {\n",
       "  /* Expand drop-down */\n",
       "  max-height: 200px;\n",
       "  max-width: 100%;\n",
       "  overflow: auto;\n",
       "}\n",
       "\n",
       "#sk-container-id-1 input.sk-toggleable__control:checked~label.sk-toggleable__label-arrow:before {\n",
       "  content: \"▾\";\n",
       "}\n",
       "\n",
       "/* Pipeline/ColumnTransformer-specific style */\n",
       "\n",
       "#sk-container-id-1 div.sk-label input.sk-toggleable__control:checked~label.sk-toggleable__label {\n",
       "  color: var(--sklearn-color-text);\n",
       "  background-color: var(--sklearn-color-unfitted-level-2);\n",
       "}\n",
       "\n",
       "#sk-container-id-1 div.sk-label.fitted input.sk-toggleable__control:checked~label.sk-toggleable__label {\n",
       "  background-color: var(--sklearn-color-fitted-level-2);\n",
       "}\n",
       "\n",
       "/* Estimator-specific style */\n",
       "\n",
       "/* Colorize estimator box */\n",
       "#sk-container-id-1 div.sk-estimator input.sk-toggleable__control:checked~label.sk-toggleable__label {\n",
       "  /* unfitted */\n",
       "  background-color: var(--sklearn-color-unfitted-level-2);\n",
       "}\n",
       "\n",
       "#sk-container-id-1 div.sk-estimator.fitted input.sk-toggleable__control:checked~label.sk-toggleable__label {\n",
       "  /* fitted */\n",
       "  background-color: var(--sklearn-color-fitted-level-2);\n",
       "}\n",
       "\n",
       "#sk-container-id-1 div.sk-label label.sk-toggleable__label,\n",
       "#sk-container-id-1 div.sk-label label {\n",
       "  /* The background is the default theme color */\n",
       "  color: var(--sklearn-color-text-on-default-background);\n",
       "}\n",
       "\n",
       "/* On hover, darken the color of the background */\n",
       "#sk-container-id-1 div.sk-label:hover label.sk-toggleable__label {\n",
       "  color: var(--sklearn-color-text);\n",
       "  background-color: var(--sklearn-color-unfitted-level-2);\n",
       "}\n",
       "\n",
       "/* Label box, darken color on hover, fitted */\n",
       "#sk-container-id-1 div.sk-label.fitted:hover label.sk-toggleable__label.fitted {\n",
       "  color: var(--sklearn-color-text);\n",
       "  background-color: var(--sklearn-color-fitted-level-2);\n",
       "}\n",
       "\n",
       "/* Estimator label */\n",
       "\n",
       "#sk-container-id-1 div.sk-label label {\n",
       "  font-family: monospace;\n",
       "  font-weight: bold;\n",
       "  display: inline-block;\n",
       "  line-height: 1.2em;\n",
       "}\n",
       "\n",
       "#sk-container-id-1 div.sk-label-container {\n",
       "  text-align: center;\n",
       "}\n",
       "\n",
       "/* Estimator-specific */\n",
       "#sk-container-id-1 div.sk-estimator {\n",
       "  font-family: monospace;\n",
       "  border: 1px dotted var(--sklearn-color-border-box);\n",
       "  border-radius: 0.25em;\n",
       "  box-sizing: border-box;\n",
       "  margin-bottom: 0.5em;\n",
       "  /* unfitted */\n",
       "  background-color: var(--sklearn-color-unfitted-level-0);\n",
       "}\n",
       "\n",
       "#sk-container-id-1 div.sk-estimator.fitted {\n",
       "  /* fitted */\n",
       "  background-color: var(--sklearn-color-fitted-level-0);\n",
       "}\n",
       "\n",
       "/* on hover */\n",
       "#sk-container-id-1 div.sk-estimator:hover {\n",
       "  /* unfitted */\n",
       "  background-color: var(--sklearn-color-unfitted-level-2);\n",
       "}\n",
       "\n",
       "#sk-container-id-1 div.sk-estimator.fitted:hover {\n",
       "  /* fitted */\n",
       "  background-color: var(--sklearn-color-fitted-level-2);\n",
       "}\n",
       "\n",
       "/* Specification for estimator info (e.g. \"i\" and \"?\") */\n",
       "\n",
       "/* Common style for \"i\" and \"?\" */\n",
       "\n",
       ".sk-estimator-doc-link,\n",
       "a:link.sk-estimator-doc-link,\n",
       "a:visited.sk-estimator-doc-link {\n",
       "  float: right;\n",
       "  font-size: smaller;\n",
       "  line-height: 1em;\n",
       "  font-family: monospace;\n",
       "  background-color: var(--sklearn-color-background);\n",
       "  border-radius: 1em;\n",
       "  height: 1em;\n",
       "  width: 1em;\n",
       "  text-decoration: none !important;\n",
       "  margin-left: 1ex;\n",
       "  /* unfitted */\n",
       "  border: var(--sklearn-color-unfitted-level-1) 1pt solid;\n",
       "  color: var(--sklearn-color-unfitted-level-1);\n",
       "}\n",
       "\n",
       ".sk-estimator-doc-link.fitted,\n",
       "a:link.sk-estimator-doc-link.fitted,\n",
       "a:visited.sk-estimator-doc-link.fitted {\n",
       "  /* fitted */\n",
       "  border: var(--sklearn-color-fitted-level-1) 1pt solid;\n",
       "  color: var(--sklearn-color-fitted-level-1);\n",
       "}\n",
       "\n",
       "/* On hover */\n",
       "div.sk-estimator:hover .sk-estimator-doc-link:hover,\n",
       ".sk-estimator-doc-link:hover,\n",
       "div.sk-label-container:hover .sk-estimator-doc-link:hover,\n",
       ".sk-estimator-doc-link:hover {\n",
       "  /* unfitted */\n",
       "  background-color: var(--sklearn-color-unfitted-level-3);\n",
       "  color: var(--sklearn-color-background);\n",
       "  text-decoration: none;\n",
       "}\n",
       "\n",
       "div.sk-estimator.fitted:hover .sk-estimator-doc-link.fitted:hover,\n",
       ".sk-estimator-doc-link.fitted:hover,\n",
       "div.sk-label-container:hover .sk-estimator-doc-link.fitted:hover,\n",
       ".sk-estimator-doc-link.fitted:hover {\n",
       "  /* fitted */\n",
       "  background-color: var(--sklearn-color-fitted-level-3);\n",
       "  color: var(--sklearn-color-background);\n",
       "  text-decoration: none;\n",
       "}\n",
       "\n",
       "/* Span, style for the box shown on hovering the info icon */\n",
       ".sk-estimator-doc-link span {\n",
       "  display: none;\n",
       "  z-index: 9999;\n",
       "  position: relative;\n",
       "  font-weight: normal;\n",
       "  right: .2ex;\n",
       "  padding: .5ex;\n",
       "  margin: .5ex;\n",
       "  width: min-content;\n",
       "  min-width: 20ex;\n",
       "  max-width: 50ex;\n",
       "  color: var(--sklearn-color-text);\n",
       "  box-shadow: 2pt 2pt 4pt #999;\n",
       "  /* unfitted */\n",
       "  background: var(--sklearn-color-unfitted-level-0);\n",
       "  border: .5pt solid var(--sklearn-color-unfitted-level-3);\n",
       "}\n",
       "\n",
       ".sk-estimator-doc-link.fitted span {\n",
       "  /* fitted */\n",
       "  background: var(--sklearn-color-fitted-level-0);\n",
       "  border: var(--sklearn-color-fitted-level-3);\n",
       "}\n",
       "\n",
       ".sk-estimator-doc-link:hover span {\n",
       "  display: block;\n",
       "}\n",
       "\n",
       "/* \"?\"-specific style due to the `<a>` HTML tag */\n",
       "\n",
       "#sk-container-id-1 a.estimator_doc_link {\n",
       "  float: right;\n",
       "  font-size: 1rem;\n",
       "  line-height: 1em;\n",
       "  font-family: monospace;\n",
       "  background-color: var(--sklearn-color-background);\n",
       "  border-radius: 1rem;\n",
       "  height: 1rem;\n",
       "  width: 1rem;\n",
       "  text-decoration: none;\n",
       "  /* unfitted */\n",
       "  color: var(--sklearn-color-unfitted-level-1);\n",
       "  border: var(--sklearn-color-unfitted-level-1) 1pt solid;\n",
       "}\n",
       "\n",
       "#sk-container-id-1 a.estimator_doc_link.fitted {\n",
       "  /* fitted */\n",
       "  border: var(--sklearn-color-fitted-level-1) 1pt solid;\n",
       "  color: var(--sklearn-color-fitted-level-1);\n",
       "}\n",
       "\n",
       "/* On hover */\n",
       "#sk-container-id-1 a.estimator_doc_link:hover {\n",
       "  /* unfitted */\n",
       "  background-color: var(--sklearn-color-unfitted-level-3);\n",
       "  color: var(--sklearn-color-background);\n",
       "  text-decoration: none;\n",
       "}\n",
       "\n",
       "#sk-container-id-1 a.estimator_doc_link.fitted:hover {\n",
       "  /* fitted */\n",
       "  background-color: var(--sklearn-color-fitted-level-3);\n",
       "}\n",
       "</style><div id=\"sk-container-id-1\" class=\"sk-top-container\"><div class=\"sk-text-repr-fallback\"><pre>LogisticRegression(class_weight=&#x27;balanced&#x27;, random_state=206)</pre><b>In a Jupyter environment, please rerun this cell to show the HTML representation or trust the notebook. <br />On GitHub, the HTML representation is unable to render, please try loading this page with nbviewer.org.</b></div><div class=\"sk-container\" hidden><div class=\"sk-item\"><div class=\"sk-estimator fitted sk-toggleable\"><input class=\"sk-toggleable__control sk-hidden--visually\" id=\"sk-estimator-id-1\" type=\"checkbox\" checked><label for=\"sk-estimator-id-1\" class=\"sk-toggleable__label fitted sk-toggleable__label-arrow fitted\">&nbsp;&nbsp;LogisticRegression<a class=\"sk-estimator-doc-link fitted\" rel=\"noreferrer\" target=\"_blank\" href=\"https://scikit-learn.org/1.5/modules/generated/sklearn.linear_model.LogisticRegression.html\">?<span>Documentation for LogisticRegression</span></a><span class=\"sk-estimator-doc-link fitted\">i<span>Fitted</span></span></label><div class=\"sk-toggleable__content fitted\"><pre>LogisticRegression(class_weight=&#x27;balanced&#x27;, random_state=206)</pre></div> </div></div></div></div>"
      ],
      "text/plain": [
       "LogisticRegression(class_weight='balanced', random_state=206)"
      ]
     },
     "execution_count": 30,
     "metadata": {},
     "output_type": "execute_result"
    }
   ],
   "source": [
    "# Crete logistic regression model\n",
    "model = LogisticRegression( class_weight = 'balanced', random_state = 206)\n",
    "\n",
    "# Fit the model with the training data\n",
    "model.fit(X_train, y_train)"
   ]
  },
  {
   "cell_type": "markdown",
   "id": "57ecca1b-5d9f-454e-847a-7b15fa7690e2",
   "metadata": {},
   "source": [
    "****"
   ]
  },
  {
   "cell_type": "markdown",
   "id": "41251d57-7c10-4e26-adfe-e4c4a309c053",
   "metadata": {},
   "source": [
    "#### 7. Evaluate the model using the testing data. What is the model accuracy for the model? Use the model to make predictions and then generate a confusion matrix from the model. Interpret the confusion matrix and explain what each number means."
   ]
  },
  {
   "cell_type": "code",
   "execution_count": 31,
   "id": "772ebe13-9c1d-430c-8759-594c7fdf7e2f",
   "metadata": {},
   "outputs": [],
   "source": [
    "# Load library\n",
    "from sklearn.metrics import accuracy_score, confusion_matrix, classification_report"
   ]
  },
  {
   "cell_type": "code",
   "execution_count": 32,
   "id": "838ec4e7-7143-4f02-89f8-1321c2857f93",
   "metadata": {},
   "outputs": [],
   "source": [
    "# Make predictions\n",
    "y_pred = model.predict(X_test)"
   ]
  },
  {
   "cell_type": "code",
   "execution_count": 33,
   "id": "bcd3a7f2-70e0-4144-bd4e-043f43c29d78",
   "metadata": {},
   "outputs": [
    {
     "data": {
      "text/plain": [
       "0.6944444444444444"
      ]
     },
     "execution_count": 33,
     "metadata": {},
     "output_type": "execute_result"
    }
   ],
   "source": [
    "# Calculate accuracy\n",
    "accuracy = accuracy_score(y_test, y_pred)\n",
    "accuracy"
   ]
  },
  {
   "cell_type": "code",
   "execution_count": 34,
   "id": "de74953a-794d-4750-8db0-0e128d3b54a7",
   "metadata": {},
   "outputs": [
    {
     "data": {
      "text/html": [
       "<div>\n",
       "<style scoped>\n",
       "    .dataframe tbody tr th:only-of-type {\n",
       "        vertical-align: middle;\n",
       "    }\n",
       "\n",
       "    .dataframe tbody tr th {\n",
       "        vertical-align: top;\n",
       "    }\n",
       "\n",
       "    .dataframe thead th {\n",
       "        text-align: right;\n",
       "    }\n",
       "</style>\n",
       "<table border=\"1\" class=\"dataframe\">\n",
       "  <thead>\n",
       "    <tr style=\"text-align: right;\">\n",
       "      <th></th>\n",
       "      <th>Predicted Negative</th>\n",
       "      <th>Predicted Postive</th>\n",
       "    </tr>\n",
       "  </thead>\n",
       "  <tbody>\n",
       "    <tr>\n",
       "      <th>Actual Negative</th>\n",
       "      <td>111</td>\n",
       "      <td>57</td>\n",
       "    </tr>\n",
       "    <tr>\n",
       "      <th>Actual Positive</th>\n",
       "      <td>20</td>\n",
       "      <td>64</td>\n",
       "    </tr>\n",
       "  </tbody>\n",
       "</table>\n",
       "</div>"
      ],
      "text/plain": [
       "                 Predicted Negative  Predicted Postive\n",
       "Actual Negative                 111                 57\n",
       "Actual Positive                  20                 64"
      ]
     },
     "execution_count": 34,
     "metadata": {},
     "output_type": "execute_result"
    }
   ],
   "source": [
    "# Generate confusion matrix\n",
    "conf_matrix = pd.DataFrame(confusion_matrix(y_test, y_pred),\n",
    "                           columns = ['Predicted Negative', 'Predicted Postive'],\n",
    "                           index = ['Actual Negative', 'Actual Positive'])\n",
    "\n",
    "conf_matrix"
   ]
  },
  {
   "cell_type": "markdown",
   "id": "0f496034-5c60-40ca-9a55-b874cd9dc796",
   "metadata": {},
   "source": [
    "* True Negatives (111): Instances where the model correctly predicted the negative class.\n",
    "* False Positives (57): Instances where the model incorrectly predicted the positive class.\n",
    "* False Negatives (20): Instances where the model incorrrectly predicted the negative class.\n",
    "* True Positives (64): Instances where the model correctly predicted the posive class."
   ]
  },
  {
   "cell_type": "markdown",
   "id": "b473d206-b909-41b7-850c-4acc5ad6c919",
   "metadata": {},
   "source": [
    "****"
   ]
  },
  {
   "cell_type": "markdown",
   "id": "f975b399-11fc-4b85-9b64-1cc831b92ff0",
   "metadata": {},
   "source": [
    "#### 8. Create the confusion matrix as a dataframe and add informative column names and index names that indicate what each quadrant represents"
   ]
  },
  {
   "cell_type": "code",
   "execution_count": 35,
   "id": "daf89a4b-ae05-4460-ab82-c8d79916cf5d",
   "metadata": {},
   "outputs": [
    {
     "data": {
      "text/html": [
       "<div>\n",
       "<style scoped>\n",
       "    .dataframe tbody tr th:only-of-type {\n",
       "        vertical-align: middle;\n",
       "    }\n",
       "\n",
       "    .dataframe tbody tr th {\n",
       "        vertical-align: top;\n",
       "    }\n",
       "\n",
       "    .dataframe thead th {\n",
       "        text-align: right;\n",
       "    }\n",
       "</style>\n",
       "<table border=\"1\" class=\"dataframe\">\n",
       "  <thead>\n",
       "    <tr style=\"text-align: right;\">\n",
       "      <th></th>\n",
       "      <th>Predicted Negative</th>\n",
       "      <th>Predicted Postive</th>\n",
       "    </tr>\n",
       "  </thead>\n",
       "  <tbody>\n",
       "    <tr>\n",
       "      <th>Actual Negative</th>\n",
       "      <td>111</td>\n",
       "      <td>57</td>\n",
       "    </tr>\n",
       "    <tr>\n",
       "      <th>Actual Positive</th>\n",
       "      <td>20</td>\n",
       "      <td>64</td>\n",
       "    </tr>\n",
       "  </tbody>\n",
       "</table>\n",
       "</div>"
      ],
      "text/plain": [
       "                 Predicted Negative  Predicted Postive\n",
       "Actual Negative                 111                 57\n",
       "Actual Positive                  20                 64"
      ]
     },
     "execution_count": 35,
     "metadata": {},
     "output_type": "execute_result"
    }
   ],
   "source": [
    "conf_matrix"
   ]
  },
  {
   "cell_type": "markdown",
   "id": "936649e5-f5c0-4113-889e-fe706bcbf15a",
   "metadata": {},
   "source": [
    "****"
   ]
  },
  {
   "cell_type": "markdown",
   "id": "4b363322-c623-4d6c-9fc2-5efba46d6915",
   "metadata": {},
   "source": [
    "#### 9. Aside from accuracy, there are three other metrics used to evaluate model performance: precision, recall, and F1 score. Use the results in the confusion matrix to calculate each of these metrics by hand. Discuss each metric and give an actual example of when it might be the preferred metric of evaluation. After calculating the metrics by hand, create a classification_report using sklearn and check to ensure your metrics match those of the classification_report."
   ]
  },
  {
   "cell_type": "code",
   "execution_count": 36,
   "id": "1650fc79-45bf-4775-9316-1c34dd446c56",
   "metadata": {},
   "outputs": [
    {
     "data": {
      "text/plain": [
       "0.53"
      ]
     },
     "execution_count": 36,
     "metadata": {},
     "output_type": "execute_result"
    }
   ],
   "source": [
    "# Manually calculate precision\n",
    "prec = round(64 / (64 + 57), 2)\n",
    "prec"
   ]
  },
  {
   "cell_type": "code",
   "execution_count": 37,
   "id": "dcfa474f-a42a-4292-819c-8fc9f372b6cb",
   "metadata": {},
   "outputs": [
    {
     "data": {
      "text/plain": [
       "0.76"
      ]
     },
     "execution_count": 37,
     "metadata": {},
     "output_type": "execute_result"
    }
   ],
   "source": [
    "# Manually caluclate recall\n",
    "recall = round(64 / (64 + 20), 2)\n",
    "recall"
   ]
  },
  {
   "cell_type": "code",
   "execution_count": 38,
   "id": "3a11a452-6c94-43c3-ab46-bebdf2fb3bd6",
   "metadata": {},
   "outputs": [
    {
     "data": {
      "text/plain": [
       "0.62"
      ]
     },
     "execution_count": 38,
     "metadata": {},
     "output_type": "execute_result"
    }
   ],
   "source": [
    "# Manually calculate F1 Score\n",
    "round(2 * (prec * recall) / (prec + recall), 2)"
   ]
  },
  {
   "cell_type": "code",
   "execution_count": 39,
   "id": "df0e8451-8463-4129-a693-cfa0190fbdc4",
   "metadata": {},
   "outputs": [
    {
     "name": "stdout",
     "output_type": "stream",
     "text": [
      "              precision    recall  f1-score   support\n",
      "\n",
      "           0       0.85      0.66      0.74       168\n",
      "           1       0.53      0.76      0.62        84\n",
      "\n",
      "    accuracy                           0.69       252\n",
      "   macro avg       0.69      0.71      0.68       252\n",
      "weighted avg       0.74      0.69      0.70       252\n",
      "\n"
     ]
    }
   ],
   "source": [
    "# Get other metrics with classification report\n",
    "print(classification_report(y_test, y_pred))"
   ]
  },
  {
   "cell_type": "markdown",
   "id": "5d46ef0b-ddad-4cc3-8220-af25f461e225",
   "metadata": {},
   "source": [
    "**Model Metrics**\n",
    "* Accuracy (0.69): Measures the proportion of correctly identified instances. This means the models overall accuracty is 69%.\n",
    "* Precision (0.53): Measures the how many predicted positives were actually positive. This means that 53% of the predicted positives were actually positive.\n",
    "* Recall (0.76): Measures how many actual positives were correctly identified. This means that 76% of actual positives were correctly identified.\n",
    "* F1 Score (0.62): The harmonic mean of precision and recall, which provides a balance of the two metrics."
   ]
  },
  {
   "cell_type": "markdown",
   "id": "b9e4ad57-2f4d-4196-9534-1388cc1df585",
   "metadata": {},
   "source": [
    "****"
   ]
  },
  {
   "cell_type": "markdown",
   "id": "82feb68c-598c-45fd-b786-020f06d73009",
   "metadata": {},
   "source": [
    "#### 10. Use the model to make predictions. For instance, what is the probability that a high income (e.g. income=8), with a high level of education (e.g. 7), non-parent who is married female and 42 years old uses LinkedIn? How does the probability change if another person is 82 years old, but otherwise the same?"
   ]
  },
  {
   "cell_type": "code",
   "execution_count": 40,
   "id": "e8ecfaec-764b-428d-b0a1-edf11809c2b6",
   "metadata": {},
   "outputs": [
    {
     "name": "stderr",
     "output_type": "stream",
     "text": [
      "C:\\Users\\Mike\\anaconda3\\Lib\\site-packages\\sklearn\\base.py:493: UserWarning: X does not have valid feature names, but LogisticRegression was fitted with feature names\n",
      "  warnings.warn(\n",
      "C:\\Users\\Mike\\anaconda3\\Lib\\site-packages\\sklearn\\base.py:493: UserWarning: X does not have valid feature names, but LogisticRegression was fitted with feature names\n",
      "  warnings.warn(\n"
     ]
    }
   ],
   "source": [
    "# Example of high income, high education, non-parent, married, female, 42 years old.\n",
    "person_1 = [8, 7, 0, 1, 1, 42]\n",
    "\n",
    "# Predict class, given input features\n",
    "predicted_class_1 = model.predict([person_1])\n",
    "\n",
    "# Generate probability of positive class (=1)\n",
    "probs_1 = np.round(model.predict_proba([person_1]), 2)"
   ]
  },
  {
   "cell_type": "code",
   "execution_count": 41,
   "id": "181b48b8-58ec-4949-ae85-260b1d2669f6",
   "metadata": {},
   "outputs": [
    {
     "name": "stdout",
     "output_type": "stream",
     "text": [
      "Predicted class: 1\n",
      "Probability that this person has LinkedIn: 0.69\n"
     ]
    }
   ],
   "source": [
    "# Print predicted class and probability\n",
    "print(f\"Predicted class: {predicted_class_1[0]}\")\n",
    "print(f\"Probability that this person has LinkedIn: {probs_1[0][1]}\")"
   ]
  },
  {
   "cell_type": "code",
   "execution_count": 42,
   "id": "9625c9db-9b09-40a2-ac68-503f78fe86f0",
   "metadata": {},
   "outputs": [
    {
     "name": "stderr",
     "output_type": "stream",
     "text": [
      "C:\\Users\\Mike\\anaconda3\\Lib\\site-packages\\sklearn\\base.py:493: UserWarning: X does not have valid feature names, but LogisticRegression was fitted with feature names\n",
      "  warnings.warn(\n",
      "C:\\Users\\Mike\\anaconda3\\Lib\\site-packages\\sklearn\\base.py:493: UserWarning: X does not have valid feature names, but LogisticRegression was fitted with feature names\n",
      "  warnings.warn(\n"
     ]
    }
   ],
   "source": [
    "# Example same as person_1 but is 82 years old.\n",
    "person_2 = [8, 7, 0, 1, 1, 82]\n",
    "\n",
    "# Predict class, given input features\n",
    "predicted_class_2 = model.predict([person_2])\n",
    "\n",
    "# Generate probability of positive class (=1)\n",
    "probs_2 = np.round(model.predict_proba([person_2]), 2)"
   ]
  },
  {
   "cell_type": "code",
   "execution_count": 43,
   "id": "9435bf9c-56f7-4446-b0d6-f49247684561",
   "metadata": {},
   "outputs": [
    {
     "name": "stdout",
     "output_type": "stream",
     "text": [
      "Predicted class: 0\n",
      "Probability that this person has LinkedIn: 0.45\n"
     ]
    }
   ],
   "source": [
    "# Print predicted class and probability\n",
    "print(f\"Predicted class: {predicted_class_2[0]}\")\n",
    "print(f\"Probability that this person has LinkedIn: {probs_2[0][1]}\")"
   ]
  },
  {
   "cell_type": "markdown",
   "id": "76ae70d8-148f-4d89-8f1c-78011621a51e",
   "metadata": {},
   "source": [
    "****"
   ]
  }
 ],
 "metadata": {
  "kernelspec": {
   "display_name": "Python 3 (ipykernel)",
   "language": "python",
   "name": "python3"
  },
  "language_info": {
   "codemirror_mode": {
    "name": "ipython",
    "version": 3
   },
   "file_extension": ".py",
   "mimetype": "text/x-python",
   "name": "python",
   "nbconvert_exporter": "python",
   "pygments_lexer": "ipython3",
   "version": "3.12.7"
  }
 },
 "nbformat": 4,
 "nbformat_minor": 5
}
